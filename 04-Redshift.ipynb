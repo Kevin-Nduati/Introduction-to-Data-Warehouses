{
 "cells": [
  {
   "cell_type": "markdown",
   "metadata": {},
   "source": [
    "# Amazon Redshift Technology\n",
    "* Column-oriented storage\n",
    "* Best suited for storing OLAP workloads, summing over a long history\n",
    "* Internally, it is a modified postgresql\n",
    "* Most relational databases execute multiple queries in parallel if they have access to many cores/servers\n",
    "* However, every query is always executed on a single CPU of a single machine\n",
    "* Acceptable for OLTP, mostly updates and few rows retrieval\n",
    "* It has Massive Parallel Processing(MPP) databases that parallelize the execution of one query on multiple cpus or machines\n",
    "* A table is partitioned and partitions are processed in parallel"
   ]
  },
  {
   "cell_type": "markdown",
   "metadata": {},
   "source": [
    "## Redshift Architecture\n",
    "<img src=\"images/08-Redshift.png\">"
   ]
  },
  {
   "cell_type": "markdown",
   "metadata": {},
   "source": [
    "* Compute nodes each has its own cpu and memory and one can configure the power of each node. Meaning you can scale up or scale down.\n",
    "* Each compute node is logically divided into a number of slices. A cluster with n slices can process n partitions of a table simultaneously"
   ]
  },
  {
   "cell_type": "markdown",
   "metadata": {},
   "source": []
  }
 ],
 "metadata": {
  "kernelspec": {
   "display_name": "Python 3.9.12 ('base')",
   "language": "python",
   "name": "python3"
  },
  "language_info": {
   "codemirror_mode": {
    "name": "ipython",
    "version": 3
   },
   "file_extension": ".py",
   "mimetype": "text/x-python",
   "name": "python",
   "nbconvert_exporter": "python",
   "pygments_lexer": "ipython3",
   "version": "3.9.12"
  },
  "orig_nbformat": 4,
  "vscode": {
   "interpreter": {
    "hash": "5c5b210ffa015f2312f69f2248e3163602cc860559c1494ea467ed1fecf0f25e"
   }
  }
 },
 "nbformat": 4,
 "nbformat_minor": 2
}
