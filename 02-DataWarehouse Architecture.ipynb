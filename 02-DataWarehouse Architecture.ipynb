{
 "cells": [
  {
   "cell_type": "markdown",
   "metadata": {},
   "source": [
    "Some of the famous architectures are:\n",
    "* Kimball's Bus Architecture\n",
    "* Independent Data Marts\n",
    "* Inmon's Corporate Information Factory (CIF)\n",
    "* Hybrid Bus and CIF"
   ]
  },
  {
   "cell_type": "markdown",
   "metadata": {},
   "source": [
    "## Kimball's Bus Architecture\n",
    "<img src=\"images/04-Kimball.png\">"
   ]
  },
  {
   "cell_type": "markdown",
   "metadata": {},
   "source": [
    "## Independent data marts\n",
    "\n",
    "<img src=\"images/05-Independent_Data_Marts.png\">"
   ]
  },
  {
   "cell_type": "markdown",
   "metadata": {},
   "source": [
    "## Inmon's Corporate Information Factory\n",
    "<img src=\"images/06-Inmon_Corporate_Information_Factory.png\">"
   ]
  },
  {
   "cell_type": "markdown",
   "metadata": {},
   "source": [
    "## Hybrid Kimball Bus and Inmon CIF\n",
    "\n",
    "<img src=\"images/07-Hybrid_Kimball_Bus.png\">"
   ]
  },
  {
   "cell_type": "markdown",
   "metadata": {},
   "source": []
  }
 ],
 "metadata": {
  "language_info": {
   "name": "python"
  },
  "orig_nbformat": 4
 },
 "nbformat": 4,
 "nbformat_minor": 2
}
