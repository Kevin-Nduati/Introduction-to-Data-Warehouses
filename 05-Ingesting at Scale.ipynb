{
 "cells": [
  {
   "cell_type": "markdown",
   "metadata": {},
   "source": [
    "# Ingesting at Scale\n",
    "* To transfer data from an S3 staging area to redshift use the COPY command.\n",
    "* Inserting data row by using insert will be very slow\n",
    "If the file is large:\n",
    "* It is better to break it up to multiple files\n",
    "* Ingest in parallel - either using a common prefix or a manifest file\n",
    "* Also better to ingest from the same AWS region\n",
    "* Better to compress all the csv files\n"
   ]
  }
 ],
 "metadata": {
  "language_info": {
   "name": "python"
  },
  "orig_nbformat": 4
 },
 "nbformat": 4,
 "nbformat_minor": 2
}
