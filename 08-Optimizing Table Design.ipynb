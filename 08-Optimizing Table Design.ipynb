{
 "cells": [
  {
   "cell_type": "markdown",
   "metadata": {},
   "source": [
    "When a table is partitioned up into many pieces and distributed across slices in different machines, this is done blindly. If one has an idea about the frequent acess pattern of a table, one can choose a more clever strategy. The 2 possible strategies are:\n",
    "* Distribution style\n",
    "* Sorting Key"
   ]
  },
  {
   "cell_type": "markdown",
   "metadata": {},
   "source": [
    "## Distribution Styles\n",
    "\n",
    "### Even\n",
    "* Round-robin over all slices to achieve load-balancing\n",
    "* Good if a table won't be joined\n",
    "\n",
    "<img src=\"images/09-even_distribution.png\">"
   ]
  },
  {
   "cell_type": "markdown",
   "metadata": {},
   "source": [
    "### All\n",
    "* Small tables could be replicated on all slices to speed up joins\n",
    "* Used frequently for dimension tables\n",
    "* AKA \"broadcasting\"\n",
    "\n",
    "<img src=\"images/10-all_distribution.png\">"
   ]
  },
  {
   "cell_type": "markdown",
   "metadata": {},
   "source": [
    "### Auto\n",
    "* Leave decisions to Redshift\n",
    "* \"small enough\" tables are distributed with an ALL strategy\n",
    "* Large tables are distributed with an EVEN strategy\n",
    "\n",
    "### Key\n",
    "* Rows having similar values are placed in the same slice\n",
    "\n",
    "<img src=\"images/11-key_distribution.png\">\n",
    "\n",
    "* This can lead to a skewed distribution if some values of the dist key are more frequent than others\n",
    "* However, very useful when a dimension table is too big to be distributed with ALL strategy. In that case, we distribute both the fact table and the dimension table using the same dict key\n",
    "* If two tables are distributed on the joining keys, redshift allocates the rows from both tables on the same slices\n",
    "\n",
    "#### Sorting Key\n",
    "* One can define its columns as sort key\n",
    "* Upon loading, rows are sorted before distribution to slices\n",
    "* This minimizes the query time since each node already has continuous ranges of rows based on the sorting key\n",
    "* Useful for columns that are used frequently in sorting like the date dimension and its corresponding foreign key in the fact table."
   ]
  },
  {
   "cell_type": "markdown",
   "metadata": {},
   "source": []
  }
 ],
 "metadata": {
  "kernelspec": {
   "display_name": "Python 3.9.12 ('aws': venv)",
   "language": "python",
   "name": "python3"
  },
  "language_info": {
   "name": "python",
   "version": "3.9.12"
  },
  "orig_nbformat": 4,
  "vscode": {
   "interpreter": {
    "hash": "7d06b89363d0a8b4b6ce9f52c643f5341f4010b8ebef937b4523cde8a8895ded"
   }
  }
 },
 "nbformat": 4,
 "nbformat_minor": 2
}
